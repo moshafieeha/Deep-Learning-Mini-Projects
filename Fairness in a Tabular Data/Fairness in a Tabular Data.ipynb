{
 "cells": [
  {
   "cell_type": "markdown",
   "metadata": {},
   "source": [
    "# Q3\n"
   ]
  },
  {
   "cell_type": "markdown",
   "metadata": {},
   "source": [
    "## Base model"
   ]
  },
  {
   "cell_type": "code",
   "execution_count": 98,
   "metadata": {},
   "outputs": [],
   "source": [
    "\n",
    "import pandas as pd\n",
    "import numpy as np\n",
    "from sklearn.model_selection import train_test_split\n",
    "from sklearn.preprocessing import LabelEncoder\n",
    "from sklearn.linear_model import LogisticRegression\n",
    "from sklearn.metrics import accuracy_score, precision_score, f1_score, confusion_matrix\n",
    "from sklearn.calibration import CalibratedClassifierCV\n",
    "import seaborn as sns\n",
    "import matplotlib.pyplot as plt"
   ]
  },
  {
   "cell_type": "code",
   "execution_count": 99,
   "metadata": {},
   "outputs": [],
   "source": [
    "# Gender encoding\n",
    "GENDER_WOMEN = 0\n",
    "GENDER_MEN = 1"
   ]
  },
  {
   "cell_type": "markdown",
   "metadata": {},
   "source": [
    "### Preprocessing data\n"
   ]
  },
  {
   "cell_type": "code",
   "execution_count": 100,
   "metadata": {},
   "outputs": [],
   "source": [
    "# Load the dataset\n",
    "data = pd.read_csv('./data.csv')\n",
    "\n",
    "# Convert categorical variables to dummy variables\n",
    "data = pd.get_dummies(data, drop_first=True)\n",
    "\n",
    "# Encode the target variable\n",
    "label_encoder = LabelEncoder()\n",
    "data['income'] = label_encoder.fit_transform(data['income'])\n",
    "\n",
    "# Split the dataset into features and target\n",
    "X = data.drop('income', axis=1)\n",
    "y = data['income']\n",
    "\n",
    "# Train-test split\n",
    "X_train, X_test, y_train, y_test = train_test_split(X, y, test_size=0.3, random_state=42)"
   ]
  },
  {
   "cell_type": "code",
   "execution_count": 101,
   "metadata": {},
   "outputs": [],
   "source": [
    "# Train the classifier\n",
    "clf = LogisticRegression(random_state=42, max_iter=1000)\n",
    "clf.fit(X_train, y_train)\n",
    "\n",
    "# Make predictions\n",
    "y_pred_test = clf.predict(X_test)"
   ]
  },
  {
   "cell_type": "markdown",
   "metadata": {},
   "source": [
    "### Fairness metrics\n"
   ]
  },
  {
   "cell_type": "code",
   "execution_count": 102,
   "metadata": {},
   "outputs": [],
   "source": [
    "def fairness_metrics(X, clf):\n",
    "    gender_column = 'gender'\n",
    "    gender_idx = X.columns.get_loc(gender_column)\n",
    "    \n",
    "    # Predict probabilities\n",
    "    probas = clf.predict_proba(X)[:, 1]\n",
    "    \n",
    "    # Identify indices for men and women\n",
    "    women_indices = X.iloc[:, gender_idx] == GENDER_WOMEN\n",
    "    men_indices = X.iloc[:, gender_idx] == GENDER_MEN\n",
    "    \n",
    "    prob_women = probas[women_indices].mean()\n",
    "    prob_men = probas[men_indices].mean()\n",
    "    \n",
    "    zemel_fairness = prob_men - prob_women\n",
    "    disparate_impact = prob_women / prob_men\n",
    "    \n",
    "    return zemel_fairness, disparate_impact, prob_women, prob_men\n"
   ]
  },
  {
   "cell_type": "markdown",
   "metadata": {},
   "source": [
    "### Evaluation\n"
   ]
  },
  {
   "cell_type": "code",
   "execution_count": 103,
   "metadata": {},
   "outputs": [
    {
     "name": "stdout",
     "output_type": "stream",
     "text": [
      "Accuracy: 0.8142359926294956\n",
      "Precision: 0.6390438247011953\n",
      "F1 Score: 0.5409780775716696\n",
      "Confusion Matrix: [[10327   906]\n",
      " [ 1816  1604]]\n"
     ]
    }
   ],
   "source": [
    "accuracy = accuracy_score(y_test, y_pred_test)\n",
    "precision = precision_score(y_test, y_pred_test)\n",
    "f1_score = f1_score(y_test, y_pred_test)\n",
    "conf_matrix = confusion_matrix(y_test, y_pred_test)\n",
    "\n",
    "\n",
    "print(f'Accuracy: {accuracy}')\n",
    "print(f'Precision: {precision}')\n",
    "print(f'F1 Score: {f1_score}')\n",
    "print(f'Confusion Matrix: {conf_matrix}')"
   ]
  },
  {
   "cell_type": "code",
   "execution_count": 104,
   "metadata": {},
   "outputs": [
    {
     "name": "stdout",
     "output_type": "stream",
     "text": [
      "Zemel Fairness: 0.2107150951847945\n",
      "Disparate Impact: 0.3467813441477173\n",
      "Probabilities of Women: 0.11186463106301966, Men: 0.32257972624781417\n"
     ]
    }
   ],
   "source": [
    "zemel_fairness, disparate_impact, prob_women, prob_men = fairness_metrics(X_test, clf)\n",
    "\n",
    "print(f'Zemel Fairness: {zemel_fairness}')\n",
    "print(f'Disparate Impact: {disparate_impact}')\n",
    "print(f'Probabilities of Women: {prob_women}, Men: {prob_men}')"
   ]
  },
  {
   "cell_type": "markdown",
   "metadata": {},
   "source": [
    "## 1st Fairness method"
   ]
  },
  {
   "cell_type": "markdown",
   "metadata": {},
   "source": [
    "### Make the new training data\n"
   ]
  },
  {
   "cell_type": "markdown",
   "metadata": {},
   "source": [
    "Step 1: Add two new columns\n"
   ]
  },
  {
   "cell_type": "code",
   "execution_count": 105,
   "metadata": {},
   "outputs": [],
   "source": [
    "# Make predictions on training data\n",
    "y_pred_train = clf.predict(X_train)\n",
    "y_pred_proba_train = clf.predict_proba(X_train)"
   ]
  },
  {
   "cell_type": "code",
   "execution_count": 106,
   "metadata": {},
   "outputs": [
    {
     "name": "stdout",
     "output_type": "stream",
     "text": [
      "       age  fnlwgt  educational-num  race  gender  capital-gain  capital-loss  \\\n",
      "42392   25  188767                9     1       1             0             0   \n",
      "14623   64  286732                9     1       0             0             0   \n",
      "27411   29  253801                9     1       1             0             0   \n",
      "1288    28  334032               11     1       1             0             0   \n",
      "7078    22  173004                9     0       1             0             0   \n",
      "\n",
      "       hours-per-week  native-country  workclass_Federal-gov  ...  \\\n",
      "42392              40               0                  False  ...   \n",
      "14623              17               0                  False  ...   \n",
      "27411              40               1                  False  ...   \n",
      "1288               50               0                  False  ...   \n",
      "7078                1               0                  False  ...   \n",
      "\n",
      "       occupation_Transport-moving  relationship_Husband  \\\n",
      "42392                        False                 False   \n",
      "14623                        False                 False   \n",
      "27411                        False                  True   \n",
      "1288                         False                  True   \n",
      "7078                         False                 False   \n",
      "\n",
      "       relationship_Not-in-family  relationship_Other-relative  \\\n",
      "42392                       False                        False   \n",
      "14623                        True                        False   \n",
      "27411                       False                        False   \n",
      "1288                        False                        False   \n",
      "7078                        False                         True   \n",
      "\n",
      "       relationship_Own-child  relationship_Unmarried  relationship_Wife  \\\n",
      "42392                    True                   False              False   \n",
      "14623                   False                   False              False   \n",
      "27411                   False                   False              False   \n",
      "1288                    False                   False              False   \n",
      "7078                    False                   False              False   \n",
      "\n",
      "       Predicted_Income  Max_Probability  income  \n",
      "42392                 0         0.960267       0  \n",
      "14623                 0         0.970913       0  \n",
      "27411                 0         0.613758       0  \n",
      "1288                  0         0.629624       0  \n",
      "7078                  0         0.862522       0  \n",
      "\n",
      "[5 rows x 45 columns]\n"
     ]
    }
   ],
   "source": [
    "# Adding maximum probability for each record in the training set\n",
    "max_proba_train = np.max(y_pred_proba_train, axis=1)\n",
    "\n",
    "# Convert scaled training data back to DataFrame and add predictions and max probability\n",
    "new_train_data = pd.DataFrame(X_train, columns=X.columns)\n",
    "new_train_data['Predicted_Income'] = y_pred_train\n",
    "new_train_data['Max_Probability'] = max_proba_train\n",
    "new_train_data['income'] = y_train.values\n",
    "\n",
    "###### New traning data = Previous traning data + 2 new columns\n",
    "###### New test data = Previous test data \n",
    "print(new_train_data.head())"
   ]
  },
  {
   "cell_type": "markdown",
   "metadata": {},
   "source": [
    "Step 2: Swap some rows based on n formula\n"
   ]
  },
  {
   "cell_type": "code",
   "execution_count": 107,
   "metadata": {},
   "outputs": [
    {
     "name": "stdout",
     "output_type": "stream",
     "text": [
      "Size of new_train_data: (34189, 45)\n",
      "Size of CP + CD: 7003 + 10077 = 17080\n"
     ]
    }
   ],
   "source": [
    "# Filter and sort for CP and CD\n",
    "# CP: Most probable men with INCOME above 50k\n",
    "CP = new_train_data[(new_train_data['gender'] == GENDER_MEN) & (new_train_data['income'] == 1)].sort_values(by='Max_Probability')\n",
    "# CD: Most probable women with INCOME below 50k\n",
    "CD = new_train_data[(new_train_data['gender'] == GENDER_WOMEN) & (new_train_data['income'] == 0)].sort_values(by='Max_Probability', ascending=False)\n",
    "\n",
    "print(\"Size of new_train_data:\", new_train_data.shape)\n",
    "print(\"Size of CP + CD:\", CP.shape[0] ,\"+\", CD.shape[0],\"=\", CP.shape[0] + CD.shape[0])\n"
   ]
  },
  {
   "cell_type": "code",
   "execution_count": 108,
   "metadata": {},
   "outputs": [
    {
     "name": "stdout",
     "output_type": "stream",
     "text": [
      "1592\n"
     ]
    }
   ],
   "source": [
    "# Number of women\n",
    "Ss = (new_train_data['gender'] == GENDER_WOMEN).sum()  \n",
    "# Number of men\n",
    "Ss_bar = (new_train_data['gender'] == GENDER_MEN).sum()  \n",
    "\n",
    "# Number of women with PREDICTED INCOME below 50k\n",
    "Ss_plus = new_train_data[(new_train_data['gender'] == GENDER_WOMEN) & (new_train_data['Predicted_Income'] == 1)].shape[0]\n",
    "# Number of men with PREDICTED INCOME above 50k\n",
    "Ss_bar_plus = new_train_data[(new_train_data['gender'] == GENDER_MEN) & (new_train_data['Predicted_Income'] == 1)].shape[0]\n",
    "\n",
    "n = ((Ss * Ss_bar_plus) - (Ss_bar * Ss_plus)) / (Ss + Ss_bar)\n",
    "\n",
    "n = int(n)\n",
    "print(n)"
   ]
  },
  {
   "cell_type": "code",
   "execution_count": 109,
   "metadata": {},
   "outputs": [
    {
     "name": "stdout",
     "output_type": "stream",
     "text": [
      "Size of new_train_data: (34189, 45)\n"
     ]
    }
   ],
   "source": [
    "# Swap the top n rows between CP and CD\n",
    "CP_top_n = CP.head(n).copy()\n",
    "CD_top_n = CD.head(n).copy()\n",
    "\n",
    "# Swap the class of \"income\" for the top n rows\n",
    "CP_top_n['income'] = 0\n",
    "CD_top_n['income'] = 1\n",
    "\n",
    "# Combine the swapped data with the remaining data\n",
    "CP_final = pd.concat([CP_top_n, CP.iloc[n:]])\n",
    "CD_final = pd.concat([CD_top_n, CD.iloc[n:]])\n",
    "\n",
    "# Combine the final CP and CD datasets and other rows out of them\n",
    "new_train_data = pd.concat([CP_final, CD_final, new_train_data[~new_train_data.index.isin(CP.index) & ~new_train_data.index.isin(CD.index)]])\n",
    "print(\"Size of new_train_data:\", new_train_data.shape)"
   ]
  },
  {
   "cell_type": "markdown",
   "metadata": {},
   "source": [
    "Step 3: Delete 2 added columns in the first step\n"
   ]
  },
  {
   "cell_type": "code",
   "execution_count": 110,
   "metadata": {},
   "outputs": [
    {
     "name": "stdout",
     "output_type": "stream",
     "text": [
      "Size of new_train_data: (34189, 43)\n"
     ]
    }
   ],
   "source": [
    "# Train a new model on the fair dataset\n",
    "new_train_data = new_train_data.drop(['Predicted_Income', 'Max_Probability'], axis=1)\n",
    "print(\"Size of new_train_data:\", new_train_data.shape)\n",
    "\n",
    "y_train_fair = new_train_data['income']\n",
    "X_train_fair = new_train_data.drop(['income'], axis=1)"
   ]
  },
  {
   "cell_type": "markdown",
   "metadata": {},
   "source": [
    "### Train the 1st fair model\n"
   ]
  },
  {
   "cell_type": "code",
   "execution_count": 111,
   "metadata": {},
   "outputs": [
    {
     "data": {
      "text/html": [
       "<style>#sk-container-id-5 {color: black;}#sk-container-id-5 pre{padding: 0;}#sk-container-id-5 div.sk-toggleable {background-color: white;}#sk-container-id-5 label.sk-toggleable__label {cursor: pointer;display: block;width: 100%;margin-bottom: 0;padding: 0.3em;box-sizing: border-box;text-align: center;}#sk-container-id-5 label.sk-toggleable__label-arrow:before {content: \"▸\";float: left;margin-right: 0.25em;color: #696969;}#sk-container-id-5 label.sk-toggleable__label-arrow:hover:before {color: black;}#sk-container-id-5 div.sk-estimator:hover label.sk-toggleable__label-arrow:before {color: black;}#sk-container-id-5 div.sk-toggleable__content {max-height: 0;max-width: 0;overflow: hidden;text-align: left;background-color: #f0f8ff;}#sk-container-id-5 div.sk-toggleable__content pre {margin: 0.2em;color: black;border-radius: 0.25em;background-color: #f0f8ff;}#sk-container-id-5 input.sk-toggleable__control:checked~div.sk-toggleable__content {max-height: 200px;max-width: 100%;overflow: auto;}#sk-container-id-5 input.sk-toggleable__control:checked~label.sk-toggleable__label-arrow:before {content: \"▾\";}#sk-container-id-5 div.sk-estimator input.sk-toggleable__control:checked~label.sk-toggleable__label {background-color: #d4ebff;}#sk-container-id-5 div.sk-label input.sk-toggleable__control:checked~label.sk-toggleable__label {background-color: #d4ebff;}#sk-container-id-5 input.sk-hidden--visually {border: 0;clip: rect(1px 1px 1px 1px);clip: rect(1px, 1px, 1px, 1px);height: 1px;margin: -1px;overflow: hidden;padding: 0;position: absolute;width: 1px;}#sk-container-id-5 div.sk-estimator {font-family: monospace;background-color: #f0f8ff;border: 1px dotted black;border-radius: 0.25em;box-sizing: border-box;margin-bottom: 0.5em;}#sk-container-id-5 div.sk-estimator:hover {background-color: #d4ebff;}#sk-container-id-5 div.sk-parallel-item::after {content: \"\";width: 100%;border-bottom: 1px solid gray;flex-grow: 1;}#sk-container-id-5 div.sk-label:hover label.sk-toggleable__label {background-color: #d4ebff;}#sk-container-id-5 div.sk-serial::before {content: \"\";position: absolute;border-left: 1px solid gray;box-sizing: border-box;top: 0;bottom: 0;left: 50%;z-index: 0;}#sk-container-id-5 div.sk-serial {display: flex;flex-direction: column;align-items: center;background-color: white;padding-right: 0.2em;padding-left: 0.2em;position: relative;}#sk-container-id-5 div.sk-item {position: relative;z-index: 1;}#sk-container-id-5 div.sk-parallel {display: flex;align-items: stretch;justify-content: center;background-color: white;position: relative;}#sk-container-id-5 div.sk-item::before, #sk-container-id-5 div.sk-parallel-item::before {content: \"\";position: absolute;border-left: 1px solid gray;box-sizing: border-box;top: 0;bottom: 0;left: 50%;z-index: -1;}#sk-container-id-5 div.sk-parallel-item {display: flex;flex-direction: column;z-index: 1;position: relative;background-color: white;}#sk-container-id-5 div.sk-parallel-item:first-child::after {align-self: flex-end;width: 50%;}#sk-container-id-5 div.sk-parallel-item:last-child::after {align-self: flex-start;width: 50%;}#sk-container-id-5 div.sk-parallel-item:only-child::after {width: 0;}#sk-container-id-5 div.sk-dashed-wrapped {border: 1px dashed gray;margin: 0 0.4em 0.5em 0.4em;box-sizing: border-box;padding-bottom: 0.4em;background-color: white;}#sk-container-id-5 div.sk-label label {font-family: monospace;font-weight: bold;display: inline-block;line-height: 1.2em;}#sk-container-id-5 div.sk-label-container {text-align: center;}#sk-container-id-5 div.sk-container {/* jupyter's `normalize.less` sets `[hidden] { display: none; }` but bootstrap.min.css set `[hidden] { display: none !important; }` so we also need the `!important` here to be able to override the default hidden behavior on the sphinx rendered scikit-learn.org. See: https://github.com/scikit-learn/scikit-learn/issues/21755 */display: inline-block !important;position: relative;}#sk-container-id-5 div.sk-text-repr-fallback {display: none;}</style><div id=\"sk-container-id-5\" class=\"sk-top-container\"><div class=\"sk-text-repr-fallback\"><pre>LogisticRegression(max_iter=1000, random_state=42)</pre><b>In a Jupyter environment, please rerun this cell to show the HTML representation or trust the notebook. <br />On GitHub, the HTML representation is unable to render, please try loading this page with nbviewer.org.</b></div><div class=\"sk-container\" hidden><div class=\"sk-item\"><div class=\"sk-estimator sk-toggleable\"><input class=\"sk-toggleable__control sk-hidden--visually\" id=\"sk-estimator-id-5\" type=\"checkbox\" checked><label for=\"sk-estimator-id-5\" class=\"sk-toggleable__label sk-toggleable__label-arrow\">LogisticRegression</label><div class=\"sk-toggleable__content\"><pre>LogisticRegression(max_iter=1000, random_state=42)</pre></div></div></div></div></div>"
      ],
      "text/plain": [
       "LogisticRegression(max_iter=1000, random_state=42)"
      ]
     },
     "execution_count": 111,
     "metadata": {},
     "output_type": "execute_result"
    }
   ],
   "source": [
    "clf.fit(X_train_fair, y_train_fair)"
   ]
  },
  {
   "cell_type": "markdown",
   "metadata": {},
   "source": [
    "###  Evaluation"
   ]
  },
  {
   "cell_type": "code",
   "execution_count": 112,
   "metadata": {},
   "outputs": [
    {
     "name": "stdout",
     "output_type": "stream",
     "text": [
      "Fair Model Accuracy: 0.8032484815396165\n",
      "Fair Model Precision: 0.7258200168208578\n",
      "Fair Model F1 Score: 0.3744847038403124\n",
      "Fair Model Confusion Matrix: [[10907   326]\n",
      " [ 2557   863]]\n"
     ]
    }
   ],
   "source": [
    "from sklearn.metrics import f1_score\n",
    "\n",
    "y_fair_pred_test = clf.predict(X_test)\n",
    "\n",
    "accuracy_fair = accuracy_score(y_test, y_fair_pred_test)\n",
    "precision_fair = precision_score(y_test, y_fair_pred_test)\n",
    "f1_score_fair = f1_score(y_test, y_fair_pred_test)\n",
    "conf_matrix_fair = confusion_matrix(y_test, y_fair_pred_test)\n",
    "\n",
    "print(f'Fair Model Accuracy: {accuracy_fair}')\n",
    "print(f'Fair Model Precision: {precision_fair}')\n",
    "print(f'Fair Model F1 Score: {f1_score_fair}')\n",
    "print(f'Fair Model Confusion Matrix: {conf_matrix_fair}')\n"
   ]
  },
  {
   "cell_type": "code",
   "execution_count": 113,
   "metadata": {},
   "outputs": [
    {
     "name": "stdout",
     "output_type": "stream",
     "text": [
      "Zemel Fairness: 0.002840756233864594\n",
      "Disparate Impact: 0.9896042066987115\n",
      "Probabilities of Women: 0.27041941271471437, Men: 0.27326016894857896\n"
     ]
    }
   ],
   "source": [
    "zemel_fairness, disparate_impact, prob_women, prob_men = fairness_metrics(X_test, clf)\n",
    "\n",
    "print(f'Zemel Fairness: {zemel_fairness}')\n",
    "print(f'Disparate Impact: {disparate_impact}')\n",
    "print(f'Probabilities of Women: {prob_women}, Men: {prob_men}')\n"
   ]
  },
  {
   "cell_type": "markdown",
   "metadata": {},
   "source": [
    "## 2nd Fairness method: Calibration (Sufficiency)"
   ]
  },
  {
   "cell_type": "markdown",
   "metadata": {},
   "source": [
    "### Train the 2nd fair model"
   ]
  },
  {
   "cell_type": "code",
   "execution_count": 114,
   "metadata": {},
   "outputs": [
    {
     "name": "stderr",
     "output_type": "stream",
     "text": [
      "/Users/homemac/miniconda3/envs/test/lib/python3.10/site-packages/sklearn/calibration.py:300: FutureWarning: `base_estimator` was renamed to `estimator` in version 1.2 and will be removed in 1.4.\n",
      "  warnings.warn(\n"
     ]
    }
   ],
   "source": [
    "calibrated_clf = CalibratedClassifierCV(base_estimator=clf, method='isotonic', cv=5)\n",
    "calibrated_clf.fit(X_train, y_train)\n",
    "\n",
    "# Make calibrated predictions\n",
    "y_calibrated_pred_test = calibrated_clf.predict(X_test)"
   ]
  },
  {
   "cell_type": "markdown",
   "metadata": {},
   "source": [
    "###  Evaluation"
   ]
  },
  {
   "cell_type": "code",
   "execution_count": 115,
   "metadata": {},
   "outputs": [
    {
     "name": "stdout",
     "output_type": "stream",
     "text": [
      "Calibrated Model Accuracy: 0.8067289974749198\n",
      "Calibrated Model Precision: 0.8629629629629629\n",
      "Calibrated Model F1 Score: 0.33049645390070914\n",
      "Calibrated Model Confusion Matrix: [[11122   111]\n",
      " [ 2721   699]]\n"
     ]
    }
   ],
   "source": [
    "from sklearn.metrics import f1_score\n",
    "\n",
    "accuracy_calibrated = accuracy_score(y_test, y_calibrated_pred_test)\n",
    "precision_calibrated = precision_score(y_test, y_calibrated_pred_test)\n",
    "f1_score_calibrated = f1_score(y_test, y_calibrated_pred_test)\n",
    "conf_matrix_calibrated = confusion_matrix(y_test, y_calibrated_pred_test)\n",
    "\n",
    "\n",
    "print(f'Calibrated Model Accuracy: {accuracy_calibrated}')\n",
    "print(f'Calibrated Model Precision: {precision_calibrated}')\n",
    "print(f'Calibrated Model F1 Score: {f1_score_calibrated}')\n",
    "print(f'Calibrated Model Confusion Matrix: {conf_matrix_calibrated}')"
   ]
  },
  {
   "cell_type": "code",
   "execution_count": 116,
   "metadata": {},
   "outputs": [
    {
     "name": "stdout",
     "output_type": "stream",
     "text": [
      "Calibrated Zemel Fairness: 0.0285927350338\n",
      "Calibrated Disparate Impact: 0.8863458963128191\n",
      "Calibrated Probabilities of Women: 0.22298405899466744, Men: 0.25157679402846744\n"
     ]
    }
   ],
   "source": [
    "zemel_fairness_calibrated, disparate_impact_calibrated, prob_women_calibrated, prob_men_calibrated = fairness_metrics(X_test, calibrated_clf)\n",
    "\n",
    "print(f'Calibrated Zemel Fairness: {zemel_fairness_calibrated}')\n",
    "print(f'Calibrated Disparate Impact: {disparate_impact_calibrated}')\n",
    "print(f'Calibrated Probabilities of Women: {prob_women_calibrated}, Men: {prob_men_calibrated}')"
   ]
  }
 ],
 "metadata": {
  "kernelspec": {
   "display_name": "test",
   "language": "python",
   "name": "python3"
  },
  "language_info": {
   "codemirror_mode": {
    "name": "ipython",
    "version": 3
   },
   "file_extension": ".py",
   "mimetype": "text/x-python",
   "name": "python",
   "nbconvert_exporter": "python",
   "pygments_lexer": "ipython3",
   "version": "3.10.13"
  }
 },
 "nbformat": 4,
 "nbformat_minor": 2
}
