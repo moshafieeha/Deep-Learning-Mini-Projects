{
 "cells": [
  {
   "cell_type": "markdown",
   "metadata": {},
   "source": [
    "# Q3"
   ]
  },
  {
   "cell_type": "code",
   "execution_count": 37,
   "metadata": {},
   "outputs": [],
   "source": [
    "import pandas as pd\n",
    "import numpy as np\n",
    "from sklearn.model_selection import train_test_split\n",
    "from sklearn.preprocessing import StandardScaler, LabelEncoder\n",
    "from sklearn.ensemble import RandomForestClassifier\n",
    "from sklearn.linear_model import LogisticRegression\n",
    "from sklearn.tree import DecisionTreeClassifier\n",
    "from sklearn.svm import SVC\n",
    "from sklearn.ensemble import GradientBoostingClassifier\n",
    "from sklearn.neural_network import MLPClassifier\n",
    "\n",
    "from sklearn.metrics import accuracy_score, precision_score"
   ]
  },
  {
   "cell_type": "markdown",
   "metadata": {},
   "source": [
    "### Preprocessing data"
   ]
  },
  {
   "cell_type": "code",
   "execution_count": 38,
   "metadata": {},
   "outputs": [],
   "source": [
    "# Load the dataset\n",
    "data = pd.read_csv('./data.csv')\n",
    "\n",
    "# Convert categorical variables to dummy variables\n",
    "data = pd.get_dummies(data, drop_first=True)\n",
    "\n",
    "# Encode the target variable\n",
    "label_encoder = LabelEncoder()\n",
    "data['income'] = label_encoder.fit_transform(data['income'])\n",
    "\n",
    "# Split the dataset into features and target\n",
    "X = data.drop('income', axis=1)\n",
    "y = data['income']\n",
    "\n",
    "# Train-test split\n",
    "X_train, X_test, y_train, y_test = train_test_split(X, y, test_size=0.3, random_state=42)"
   ]
  },
  {
   "cell_type": "markdown",
   "metadata": {},
   "source": [
    "### Evaluation"
   ]
  },
  {
   "cell_type": "code",
   "execution_count": 39,
   "metadata": {},
   "outputs": [
    {
     "name": "stdout",
     "output_type": "stream",
     "text": [
      "Accuracy: 0.8142359926294956\n",
      "Precision: 0.6390438247011953\n"
     ]
    }
   ],
   "source": [
    "# Train the classifier\n",
    "clf = LogisticRegression(random_state=42, max_iter=1000)\n",
    "clf.fit(X_train, y_train)\n",
    "\n",
    "# Make predictions\n",
    "y_pred_test = clf.predict(X_test)\n",
    "\n",
    "# Evaluate the model\n",
    "accuracy = accuracy_score(y_test, y_pred_test)\n",
    "precision = precision_score(y_test, y_pred_test)\n",
    "\n",
    "# Output results\n",
    "print(f'Accuracy: {accuracy}')\n",
    "print(f'Precision: {precision}')\n"
   ]
  },
  {
   "cell_type": "markdown",
   "metadata": {},
   "source": [
    "### Fairness metrics"
   ]
  },
  {
   "cell_type": "code",
   "execution_count": 40,
   "metadata": {},
   "outputs": [
    {
     "name": "stdout",
     "output_type": "stream",
     "text": [
      "Zemel Fairness: -0.2107150951847945\n",
      "Disparate Impact: 2.8836614681729635\n",
      "Probabilities of Women: 0.32257972624781417, Men: 0.11186463106301966\n"
     ]
    }
   ],
   "source": [
    "# Fairness metrics\n",
    "def fairness_metrics(X, clf):\n",
    "    gender_column = 'gender'\n",
    "    gender_idx = X.columns.get_loc(gender_column)\n",
    "    \n",
    "    # Predict probabilities\n",
    "    probas = clf.predict_proba(X)[:, 1]\n",
    "    \n",
    "    # Identify indices for men and women\n",
    "    women_indices = X.iloc[:, gender_idx] == 1\n",
    "    men_indices = X.iloc[:, gender_idx] == 0\n",
    "    \n",
    "    prob_women = probas[women_indices].mean()\n",
    "    prob_men = probas[men_indices].mean()\n",
    "    \n",
    "    zemel_fairness = prob_men - prob_women\n",
    "    disparate_impact = prob_women / prob_men\n",
    "    \n",
    "    return zemel_fairness, disparate_impact, prob_women, prob_men\n",
    "\n",
    "\n"
   ]
  },
  {
   "cell_type": "code",
   "execution_count": null,
   "metadata": {},
   "outputs": [],
   "source": [
    "# Example usage\n",
    "zemel_fairness, disparate_impact, prob_women, prob_men = fairness_metrics(X_test, clf)\n",
    "\n",
    "print(f'Zemel Fairness: {zemel_fairness}')\n",
    "print(f'Disparate Impact: {disparate_impact}')\n",
    "print(f'Probabilities of Women: {prob_women}, Men: {prob_men}')"
   ]
  },
  {
   "cell_type": "markdown",
   "metadata": {},
   "source": [
    "## Fair model"
   ]
  },
  {
   "cell_type": "markdown",
   "metadata": {},
   "source": [
    "### Make the new training data"
   ]
  },
  {
   "cell_type": "markdown",
   "metadata": {},
   "source": [
    "Step 1: Add two new columns"
   ]
  },
  {
   "cell_type": "code",
   "execution_count": 41,
   "metadata": {},
   "outputs": [],
   "source": [
    "# Make predictions on training data\n",
    "y_pred_train = clf.predict(X_train)\n",
    "y_pred_proba_train = clf.predict_proba(X_train)  # Get predicted probabilities for training data"
   ]
  },
  {
   "cell_type": "code",
   "execution_count": 42,
   "metadata": {},
   "outputs": [
    {
     "name": "stdout",
     "output_type": "stream",
     "text": [
      "       age  fnlwgt  educational-num  race  gender  capital-gain  capital-loss  \\\n",
      "42392   25  188767                9     1       1             0             0   \n",
      "14623   64  286732                9     1       0             0             0   \n",
      "27411   29  253801                9     1       1             0             0   \n",
      "1288    28  334032               11     1       1             0             0   \n",
      "7078    22  173004                9     0       1             0             0   \n",
      "\n",
      "       hours-per-week  native-country  workclass_Federal-gov  ...  \\\n",
      "42392              40               0                  False  ...   \n",
      "14623              17               0                  False  ...   \n",
      "27411              40               1                  False  ...   \n",
      "1288               50               0                  False  ...   \n",
      "7078                1               0                  False  ...   \n",
      "\n",
      "       occupation_Transport-moving  relationship_Husband  \\\n",
      "42392                        False                 False   \n",
      "14623                        False                 False   \n",
      "27411                        False                  True   \n",
      "1288                         False                  True   \n",
      "7078                         False                 False   \n",
      "\n",
      "       relationship_Not-in-family  relationship_Other-relative  \\\n",
      "42392                       False                        False   \n",
      "14623                        True                        False   \n",
      "27411                       False                        False   \n",
      "1288                        False                        False   \n",
      "7078                        False                         True   \n",
      "\n",
      "       relationship_Own-child  relationship_Unmarried  relationship_Wife  \\\n",
      "42392                    True                   False              False   \n",
      "14623                   False                   False              False   \n",
      "27411                   False                   False              False   \n",
      "1288                    False                   False              False   \n",
      "7078                    False                   False              False   \n",
      "\n",
      "       Predicted_Income  Max_Probability  income  \n",
      "42392                 0         0.960267       0  \n",
      "14623                 0         0.970913       0  \n",
      "27411                 0         0.613758       0  \n",
      "1288                  0         0.629624       0  \n",
      "7078                  0         0.862522       0  \n",
      "\n",
      "[5 rows x 45 columns]\n"
     ]
    }
   ],
   "source": [
    "# Adding maximum probability for each record in the training set\n",
    "max_proba_train = np.max(y_pred_proba_train, axis=1)\n",
    "\n",
    "# Convert scaled training data back to DataFrame and add predictions and max probability\n",
    "new_train_data = pd.DataFrame(X_train, columns=X.columns)\n",
    "new_train_data['Predicted_Income'] = y_pred_train\n",
    "new_train_data['Max_Probability'] = max_proba_train\n",
    "new_train_data['income'] = y_train.values\n",
    "\n",
    "###### New traning data = Previous traning data + 2 new columns\n",
    "###### New test data = Previous test data \n",
    "print(new_train_data.head())"
   ]
  },
  {
   "cell_type": "markdown",
   "metadata": {},
   "source": [
    "Step 2: Swap some rows based on n formula"
   ]
  },
  {
   "cell_type": "code",
   "execution_count": 43,
   "metadata": {},
   "outputs": [
    {
     "name": "stdout",
     "output_type": "stream",
     "text": [
      "Size of new_train_data: (34189, 45)\n",
      "Size of CP + CD: 1264 + 15845 = 17109\n"
     ]
    }
   ],
   "source": [
    "# Filter and sort for CP and CD\n",
    "\n",
    "# CP: Most probable men with INCOME above 50k\n",
    "CP = new_train_data[(new_train_data['gender'] == 0) & (new_train_data['income'] == 1)].sort_values(by='Max_Probability')\n",
    "# CD: Most probable women with INCOME below 50k\n",
    "CD = new_train_data[(new_train_data['gender'] == 1) & (new_train_data['income'] == 0)].sort_values(by='Max_Probability', ascending=False)\n",
    "\n",
    "###### New traning data 2 = CP + CD based on the New traning data 1\n",
    "print(\"Size of new_train_data:\", new_train_data.shape)\n",
    "print(\"Size of CP + CD:\", CP.shape[0] ,\"+\", CD.shape[0],\"=\", CP.shape[0] + CD.shape[0])\n"
   ]
  },
  {
   "cell_type": "code",
   "execution_count": 44,
   "metadata": {},
   "outputs": [
    {
     "name": "stdout",
     "output_type": "stream",
     "text": [
      "-5412\n",
      "5412\n"
     ]
    }
   ],
   "source": [
    "# Calculate the value of n\n",
    "Ss = (new_train_data['gender'] == 1).sum()  # Number of women\n",
    "Ss_bar = (new_train_data['gender'] == 0).sum()  # Number of men\n",
    "\n",
    "# Number of women with PREDICTED INCOME below 50k\n",
    "Ss_plus = new_train_data[(new_train_data['gender'] == 1) & (new_train_data['Predicted_Income'] == 0)].shape[0]\n",
    "# Number of men with PREDICTED INCOME above 50k\n",
    "Ss_bar_plus = new_train_data[(new_train_data['gender'] == 0) & (new_train_data['Predicted_Income'] == 1)].shape[0]\n",
    "\n",
    "n = ((Ss * Ss_bar_plus) - (Ss_bar * Ss_plus)) / (Ss + Ss_bar)\n",
    "\n",
    "# Swap the top n rows between CP and CD\n",
    "n = int(n)\n",
    "print(n)\n",
    "\n",
    "n = -n\n",
    "print(n)"
   ]
  },
  {
   "cell_type": "code",
   "execution_count": 45,
   "metadata": {},
   "outputs": [
    {
     "name": "stdout",
     "output_type": "stream",
     "text": [
      "Size of new_train_data: (34189, 45)\n"
     ]
    }
   ],
   "source": [
    "# Swap\n",
    "\n",
    "CP_top_n = CP.head(n).copy()\n",
    "CD_top_n = CD.head(n).copy()\n",
    "\n",
    "# Swap the class of \"income\" for the top n rows\n",
    "CP_top_n['income'] = 0\n",
    "CD_top_n['income'] = 1\n",
    "\n",
    "# Combine the swapped data with the remaining data\n",
    "CP_final = pd.concat([CP_top_n, CP.iloc[n:]])\n",
    "CD_final = pd.concat([CD_top_n, CD.iloc[n:]])\n",
    "\n",
    "# Combine the final CP and CD datasets and other rows out of them\n",
    "new_train_data = pd.concat([CP_final, CD_final, new_train_data[~new_train_data.index.isin(CP.index) & ~new_train_data.index.isin(CD.index)]])\n",
    "print(\"Size of new_train_data:\", new_train_data.shape)"
   ]
  },
  {
   "cell_type": "markdown",
   "metadata": {},
   "source": [
    "Step 3: Delete 2 added columns in the first step"
   ]
  },
  {
   "cell_type": "code",
   "execution_count": 46,
   "metadata": {},
   "outputs": [
    {
     "name": "stdout",
     "output_type": "stream",
     "text": [
      "Size of new_train_data: (34189, 43)\n"
     ]
    }
   ],
   "source": [
    "# Train a new model on the fair dataset\n",
    "new_train_data = new_train_data.drop(['Predicted_Income', 'Max_Probability'], axis=1)\n",
    "print(\"Size of new_train_data:\", new_train_data.shape)\n",
    "\n",
    "y_train_fair = new_train_data['income']\n",
    "X_train_fair = new_train_data.drop(['income'], axis=1)"
   ]
  },
  {
   "cell_type": "markdown",
   "metadata": {},
   "source": [
    "### Train the fair model"
   ]
  },
  {
   "cell_type": "code",
   "execution_count": 47,
   "metadata": {},
   "outputs": [
    {
     "name": "stdout",
     "output_type": "stream",
     "text": [
      "Fair Model Accuracy: 0.7909643076503106\n",
      "Fair Model Precision: 0.7408906882591093\n"
     ]
    }
   ],
   "source": [
    "clf_fair = LogisticRegression(random_state=42, max_iter=1000)\n",
    "clf_fair.fit(X_train_fair, y_train_fair)\n",
    "\n",
    "# Evaluate the new model\n",
    "y_fair_pred_test = clf_fair.predict(X_test)\n",
    "accuracy_fair = accuracy_score(y_test, y_fair_pred_test)\n",
    "precision_fair = precision_score(y_test, y_fair_pred_test)\n",
    "\n",
    "print(f'Fair Model Accuracy: {accuracy_fair}')\n",
    "print(f'Fair Model Precision: {precision_fair}')"
   ]
  },
  {
   "cell_type": "code",
   "execution_count": 48,
   "metadata": {},
   "outputs": [
    {
     "name": "stdout",
     "output_type": "stream",
     "text": [
      "Zemel Fairness: -0.010186615589960146\n",
      "Disparate Impact: 1.0268100781155522\n",
      "Probabilities of Women: 0.3901413306062867, Men: 0.37995471501632655\n"
     ]
    }
   ],
   "source": [
    "zemel_fairness, disparate_impact, prob_women, prob_men = fairness_metrics(X_test, clf_fair)\n",
    "\n",
    "print(f'Zemel Fairness: {zemel_fairness}')\n",
    "print(f'Disparate Impact: {disparate_impact}')\n",
    "print(f'Probabilities of Women: {prob_women}, Men: {prob_men}')\n"
   ]
  },
  {
   "cell_type": "code",
   "execution_count": null,
   "metadata": {},
   "outputs": [],
   "source": []
  }
 ],
 "metadata": {
  "kernelspec": {
   "display_name": "test",
   "language": "python",
   "name": "python3"
  },
  "language_info": {
   "codemirror_mode": {
    "name": "ipython",
    "version": 3
   },
   "file_extension": ".py",
   "mimetype": "text/x-python",
   "name": "python",
   "nbconvert_exporter": "python",
   "pygments_lexer": "ipython3",
   "version": "3.10.13"
  }
 },
 "nbformat": 4,
 "nbformat_minor": 2
}
