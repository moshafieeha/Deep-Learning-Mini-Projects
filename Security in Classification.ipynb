{
 "cells": [
  {
   "cell_type": "markdown",
   "id": "2e855c73",
   "metadata": {
    "papermill": {
     "duration": 0.003847,
     "end_time": "2024-06-15T12:50:05.116921",
     "exception": false,
     "start_time": "2024-06-15T12:50:05.113074",
     "status": "completed"
    },
    "tags": []
   },
   "source": [
    "#### Setup the Model Architecture"
   ]
  },
  {
   "cell_type": "code",
   "execution_count": 1,
   "id": "47b2155a",
   "metadata": {
    "execution": {
     "iopub.execute_input": "2024-06-15T12:50:05.125065Z",
     "iopub.status.busy": "2024-06-15T12:50:05.124728Z",
     "iopub.status.idle": "2024-06-15T12:50:08.722001Z",
     "shell.execute_reply": "2024-06-15T12:50:08.721179Z"
    },
    "papermill": {
     "duration": 3.604047,
     "end_time": "2024-06-15T12:50:08.724502",
     "exception": false,
     "start_time": "2024-06-15T12:50:05.120455",
     "status": "completed"
    },
    "tags": []
   },
   "outputs": [],
   "source": [
    "import torch\n",
    "import torch.nn as nn\n",
    "import torch.optim as optim\n",
    "\n",
    "class ConvNet(nn.Module):\n",
    "    def __init__(self):\n",
    "        super(ConvNet, self).__init__()\n",
    "        self.conv1 = nn.Sequential(\n",
    "            nn.Conv2d(1, 16, kernel_size=5, stride=1),\n",
    "            nn.ReLU(),\n",
    "            nn.AvgPool2d(kernel_size=2, stride=2)\n",
    "        )\n",
    "        self.conv2 = nn.Sequential(\n",
    "            nn.Conv2d(16, 32, kernel_size=5, stride=1),\n",
    "            nn.ReLU(),\n",
    "            nn.AvgPool2d(kernel_size=2, stride=2)\n",
    "        )\n",
    "        self.fc1 = nn.Sequential(\n",
    "            nn.Linear(32 * 4 * 4, 512),\n",
    "            nn.ReLU()\n",
    "        )\n",
    "        self.fc2 = nn.Sequential(\n",
    "            nn.Linear(512, 10),\n",
    "            nn.Softmax(dim=-1)\n",
    "        )\n",
    "        self.dropout = nn.Dropout(p=0.5)\n",
    "\n",
    "    def forward(self, x):\n",
    "        x = self.conv1(x)\n",
    "        x = self.conv2(x)\n",
    "        x = x.view(-1, 32 * 4 * 4)\n",
    "        x = self.fc1(x)\n",
    "        x = self.dropout(x)\n",
    "        x = self.fc2(x)\n",
    "        return x\n"
   ]
  },
  {
   "cell_type": "markdown",
   "id": "89023e23",
   "metadata": {
    "papermill": {
     "duration": 0.003221,
     "end_time": "2024-06-15T12:50:08.731348",
     "exception": false,
     "start_time": "2024-06-15T12:50:08.728127",
     "status": "completed"
    },
    "tags": []
   },
   "source": [
    "#### Load the Poisoned Model"
   ]
  },
  {
   "cell_type": "code",
   "execution_count": 2,
   "id": "54fa5575",
   "metadata": {
    "execution": {
     "iopub.execute_input": "2024-06-15T12:50:08.739728Z",
     "iopub.status.busy": "2024-06-15T12:50:08.739020Z",
     "iopub.status.idle": "2024-06-15T12:50:09.011436Z",
     "shell.execute_reply": "2024-06-15T12:50:09.010499Z"
    },
    "papermill": {
     "duration": 0.278818,
     "end_time": "2024-06-15T12:50:09.013433",
     "exception": false,
     "start_time": "2024-06-15T12:50:08.734615",
     "status": "completed"
    },
    "tags": []
   },
   "outputs": [
    {
     "data": {
      "text/plain": [
       "ConvNet(\n",
       "  (conv1): Sequential(\n",
       "    (0): Conv2d(1, 16, kernel_size=(5, 5), stride=(1, 1))\n",
       "    (1): ReLU()\n",
       "    (2): AvgPool2d(kernel_size=2, stride=2, padding=0)\n",
       "  )\n",
       "  (conv2): Sequential(\n",
       "    (0): Conv2d(16, 32, kernel_size=(5, 5), stride=(1, 1))\n",
       "    (1): ReLU()\n",
       "    (2): AvgPool2d(kernel_size=2, stride=2, padding=0)\n",
       "  )\n",
       "  (fc1): Sequential(\n",
       "    (0): Linear(in_features=512, out_features=512, bias=True)\n",
       "    (1): ReLU()\n",
       "  )\n",
       "  (fc2): Sequential(\n",
       "    (0): Linear(in_features=512, out_features=10, bias=True)\n",
       "    (1): Softmax(dim=-1)\n",
       "  )\n",
       "  (dropout): Dropout(p=0.5, inplace=False)\n",
       ")"
      ]
     },
     "execution_count": 2,
     "metadata": {},
     "output_type": "execute_result"
    }
   ],
   "source": [
    "model = ConvNet()\n",
    "model.load_state_dict(torch.load(\"/kaggle/input/hw4/pytorch/1/1/poisened_model_8.pth\"))\n",
    "model.eval()  # Set the model to evaluation mode\n"
   ]
  },
  {
   "cell_type": "markdown",
   "id": "b3424ace",
   "metadata": {
    "papermill": {
     "duration": 0.003485,
     "end_time": "2024-06-15T12:50:09.020936",
     "exception": false,
     "start_time": "2024-06-15T12:50:09.017451",
     "status": "completed"
    },
    "tags": []
   },
   "source": [
    "### For one class\n",
    "#### Define the Trigger Optimization Procedure"
   ]
  },
  {
   "cell_type": "code",
   "execution_count": 3,
   "id": "6d86e187",
   "metadata": {
    "execution": {
     "iopub.execute_input": "2024-06-15T12:50:09.028975Z",
     "iopub.status.busy": "2024-06-15T12:50:09.028647Z",
     "iopub.status.idle": "2024-06-15T12:50:10.778301Z",
     "shell.execute_reply": "2024-06-15T12:50:10.776989Z"
    },
    "papermill": {
     "duration": 1.755936,
     "end_time": "2024-06-15T12:50:10.780321",
     "exception": false,
     "start_time": "2024-06-15T12:50:09.024385",
     "status": "completed"
    },
    "tags": []
   },
   "outputs": [
    {
     "name": "stdout",
     "output_type": "stream",
     "text": [
      "Epoch 0, Loss: 1.5473836660385132\n",
      "Epoch 10, Loss: 1.4724997282028198\n",
      "Epoch 20, Loss: 1.4645735025405884\n",
      "Epoch 30, Loss: 1.462934970855713\n",
      "Epoch 40, Loss: 1.4623823165893555\n",
      "Epoch 50, Loss: 1.4621285200119019\n",
      "Epoch 60, Loss: 1.461980938911438\n",
      "Epoch 70, Loss: 1.461879849433899\n",
      "Epoch 80, Loss: 1.4618017673492432\n",
      "Epoch 90, Loss: 1.4617377519607544\n"
     ]
    }
   ],
   "source": [
    "# Define the pattern and mask\n",
    "pattern = torch.nn.Parameter(torch.ones(1, 1, 28, 28))  # Assuming input size is 28x28\n",
    "mask = torch.nn.Parameter(torch.ones(1, 1, 28, 28))\n",
    "\n",
    "# Optimizer\n",
    "optimizer = optim.Adam([pattern, mask], lr=0.01)\n",
    "\n",
    "# Define the loss criterion\n",
    "criterion = nn.CrossEntropyLoss()\n",
    "\n",
    "# Optimization loop\n",
    "for epoch in range(100):\n",
    "    optimizer.zero_grad()\n",
    "    pattern_t = torch.sigmoid(pattern)\n",
    "    mask_t = torch.sigmoid(mask)\n",
    "    # Create a poisoned image example\n",
    "    x = pattern_t * mask_t\n",
    "    # Forward pass\n",
    "    outputs = model(x)\n",
    "    label = torch.tensor([8])  # Target class index\n",
    "    loss = criterion(outputs, label)\n",
    "    loss.backward()\n",
    "    optimizer.step()\n",
    "\n",
    "    if epoch % 10 == 0:\n",
    "        print(f\"Epoch {epoch}, Loss: {loss.item()}\")\n"
   ]
  },
  {
   "cell_type": "markdown",
   "id": "6d8433a9",
   "metadata": {
    "papermill": {
     "duration": 0.004598,
     "end_time": "2024-06-15T12:50:10.788947",
     "exception": false,
     "start_time": "2024-06-15T12:50:10.784349",
     "status": "completed"
    },
    "tags": []
   },
   "source": [
    "#### Visualize the Trigger"
   ]
  },
  {
   "cell_type": "code",
   "execution_count": 4,
   "id": "6bfcab35",
   "metadata": {
    "execution": {
     "iopub.execute_input": "2024-06-15T12:50:10.797979Z",
     "iopub.status.busy": "2024-06-15T12:50:10.797240Z",
     "iopub.status.idle": "2024-06-15T12:50:11.080619Z",
     "shell.execute_reply": "2024-06-15T12:50:11.079754Z"
    },
    "papermill": {
     "duration": 0.290027,
     "end_time": "2024-06-15T12:50:11.082738",
     "exception": false,
     "start_time": "2024-06-15T12:50:10.792711",
     "status": "completed"
    },
    "tags": []
   },
   "outputs": [
    {
     "data": {
      "image/png": "[encoded data removed]",
      "text/plain": [
       "<Figure size 640x480 with 1 Axes>"
      ]
     },
     "metadata": {},
     "output_type": "display_data"
    }
   ],
   "source": [
    "import matplotlib.pyplot as plt\n",
    "\n",
    "pattern_np = torch.sigmoid(pattern).detach().numpy().squeeze()\n",
    "mask_np = torch.sigmoid(mask).detach().numpy().squeeze()\n",
    "\n",
    "plt.imshow(pattern_np * mask_np, cmap='gray')\n",
    "plt.title('Reconstructed Trigger')\n",
    "plt.show()\n"
   ]
  },
  {
   "cell_type": "markdown",
   "id": "cdc3a959",
   "metadata": {
    "papermill": {
     "duration": 0.003768,
     "end_time": "2024-06-15T12:50:11.090592",
     "exception": false,
     "start_time": "2024-06-15T12:50:11.086824",
     "status": "completed"
    },
    "tags": []
   },
   "source": [
    "### For all classes"
   ]
  },
  {
   "cell_type": "code",
   "execution_count": 5,
   "id": "4e3ee1d6",
   "metadata": {
    "execution": {
     "iopub.execute_input": "2024-06-15T12:50:11.100112Z",
     "iopub.status.busy": "2024-06-15T12:50:11.099441Z",
     "iopub.status.idle": "2024-06-15T12:50:14.463642Z",
     "shell.execute_reply": "2024-06-15T12:50:14.462719Z"
    },
    "papermill": {
     "duration": 3.371679,
     "end_time": "2024-06-15T12:50:14.466144",
     "exception": false,
     "start_time": "2024-06-15T12:50:11.094465",
     "status": "completed"
    },
    "tags": []
   },
   "outputs": [
    {
     "name": "stdout",
     "output_type": "stream",
     "text": [
      "Class 0, Epoch 0, Loss: 2.446845293045044\n",
      "Class 0, Epoch 10, Loss: 2.412449836730957\n",
      "Class 0, Epoch 20, Loss: 2.4079225063323975\n",
      "Class 0, Epoch 30, Loss: 2.398113489151001\n",
      "Class 0, Epoch 40, Loss: 2.373093605041504\n",
      "Class 0, Epoch 50, Loss: 2.2750697135925293\n",
      "Class 0, Epoch 60, Loss: 1.987655758857727\n",
      "Class 0, Epoch 70, Loss: 1.7070319652557373\n",
      "Class 0, Epoch 80, Loss: 1.5865319967269897\n",
      "Class 0, Epoch 90, Loss: 1.5408320426940918\n",
      "Class 1, Epoch 0, Loss: 2.3999907970428467\n",
      "Class 1, Epoch 10, Loss: 2.041295289993286\n",
      "Class 1, Epoch 20, Loss: 1.647334337234497\n",
      "Class 1, Epoch 30, Loss: 1.5350900888442993\n",
      "Class 1, Epoch 40, Loss: 1.5005886554718018\n",
      "Class 1, Epoch 50, Loss: 1.487339973449707\n",
      "Class 1, Epoch 60, Loss: 1.4809963703155518\n",
      "Class 1, Epoch 70, Loss: 1.4775183200836182\n",
      "Class 1, Epoch 80, Loss: 1.475259780883789\n",
      "Class 1, Epoch 90, Loss: 1.4736415147781372\n",
      "Class 2, Epoch 0, Loss: 2.4451656341552734\n",
      "Class 2, Epoch 10, Loss: 2.4074251651763916\n",
      "Class 2, Epoch 20, Loss: 2.4005274772644043\n",
      "Class 2, Epoch 30, Loss: 2.3863022327423096\n",
      "Class 2, Epoch 40, Loss: 2.3486404418945312\n",
      "Class 2, Epoch 50, Loss: 2.224299430847168\n",
      "Class 2, Epoch 60, Loss: 1.9627265930175781\n",
      "Class 2, Epoch 70, Loss: 1.720113754272461\n",
      "Class 2, Epoch 80, Loss: 1.6041877269744873\n",
      "Class 2, Epoch 90, Loss: 1.5503716468811035\n",
      "Class 3, Epoch 0, Loss: 2.4062368869781494\n",
      "Class 3, Epoch 10, Loss: 2.1996216773986816\n",
      "Class 3, Epoch 20, Loss: 1.9471224546432495\n",
      "Class 3, Epoch 30, Loss: 1.7215821743011475\n",
      "Class 3, Epoch 40, Loss: 1.5899553298950195\n",
      "Class 3, Epoch 50, Loss: 1.53205144405365\n",
      "Class 3, Epoch 60, Loss: 1.5063300132751465\n",
      "Class 3, Epoch 70, Loss: 1.492954134941101\n",
      "Class 3, Epoch 80, Loss: 1.4853782653808594\n",
      "Class 3, Epoch 90, Loss: 1.4804643392562866\n",
      "Class 4, Epoch 0, Loss: 2.4464690685272217\n",
      "Class 4, Epoch 10, Loss: 2.4094200134277344\n",
      "Class 4, Epoch 20, Loss: 2.4008073806762695\n",
      "Class 4, Epoch 30, Loss: 2.3694753646850586\n",
      "Class 4, Epoch 40, Loss: 2.2543041706085205\n",
      "Class 4, Epoch 50, Loss: 1.9347376823425293\n",
      "Class 4, Epoch 60, Loss: 1.6554005146026611\n",
      "Class 4, Epoch 70, Loss: 1.5540543794631958\n",
      "Class 4, Epoch 80, Loss: 1.5149779319763184\n",
      "Class 4, Epoch 90, Loss: 1.4986107349395752\n",
      "Class 5, Epoch 0, Loss: 2.447075605392456\n",
      "Class 5, Epoch 10, Loss: 2.4132988452911377\n",
      "Class 5, Epoch 20, Loss: 2.411289691925049\n",
      "Class 5, Epoch 30, Loss: 2.4080989360809326\n",
      "Class 5, Epoch 40, Loss: 2.406121253967285\n",
      "Class 5, Epoch 50, Loss: 2.4041924476623535\n",
      "Class 5, Epoch 60, Loss: 2.4025399684906006\n",
      "Class 5, Epoch 70, Loss: 2.400559186935425\n",
      "Class 5, Epoch 80, Loss: 2.3977630138397217\n",
      "Class 5, Epoch 90, Loss: 2.394047260284424\n",
      "Class 6, Epoch 0, Loss: 2.4470009803771973\n",
      "Class 6, Epoch 10, Loss: 2.413480043411255\n",
      "Class 6, Epoch 20, Loss: 2.4115395545959473\n",
      "Class 6, Epoch 30, Loss: 2.4077303409576416\n",
      "Class 6, Epoch 40, Loss: 2.403736114501953\n",
      "Class 6, Epoch 50, Loss: 2.393881320953369\n",
      "Class 6, Epoch 60, Loss: 2.356626510620117\n",
      "Class 6, Epoch 70, Loss: 2.216862678527832\n",
      "Class 6, Epoch 80, Loss: 1.931258201599121\n",
      "Class 6, Epoch 90, Loss: 1.6868337392807007\n",
      "Class 7, Epoch 0, Loss: 2.4434850215911865\n",
      "Class 7, Epoch 10, Loss: 2.3791534900665283\n",
      "Class 7, Epoch 20, Loss: 2.232407808303833\n",
      "Class 7, Epoch 30, Loss: 1.847065806388855\n",
      "Class 7, Epoch 40, Loss: 1.5800122022628784\n",
      "Class 7, Epoch 50, Loss: 1.5109262466430664\n",
      "Class 7, Epoch 60, Loss: 1.4902688264846802\n",
      "Class 7, Epoch 70, Loss: 1.4820739030838013\n",
      "Class 7, Epoch 80, Loss: 1.478043556213379\n",
      "Class 7, Epoch 90, Loss: 1.4756708145141602\n",
      "Class 8, Epoch 0, Loss: 1.5473836660385132\n",
      "Class 8, Epoch 10, Loss: 1.4724997282028198\n",
      "Class 8, Epoch 20, Loss: 1.4645735025405884\n",
      "Class 8, Epoch 30, Loss: 1.462934970855713\n",
      "Class 8, Epoch 40, Loss: 1.4623823165893555\n",
      "Class 8, Epoch 50, Loss: 1.4621285200119019\n",
      "Class 8, Epoch 60, Loss: 1.461980938911438\n",
      "Class 8, Epoch 70, Loss: 1.461879849433899\n",
      "Class 8, Epoch 80, Loss: 1.4618017673492432\n",
      "Class 8, Epoch 90, Loss: 1.4617377519607544\n",
      "Class 9, Epoch 0, Loss: 2.4477293491363525\n",
      "Class 9, Epoch 10, Loss: 2.41558575630188\n",
      "Class 9, Epoch 20, Loss: 2.4145021438598633\n",
      "Class 9, Epoch 30, Loss: 2.4119269847869873\n",
      "Class 9, Epoch 40, Loss: 2.410754680633545\n",
      "Class 9, Epoch 50, Loss: 2.4096312522888184\n",
      "Class 9, Epoch 60, Loss: 2.4090805053710938\n",
      "Class 9, Epoch 70, Loss: 2.409026861190796\n",
      "Class 9, Epoch 80, Loss: 2.40887713432312\n",
      "Class 9, Epoch 90, Loss: 2.408745288848877\n"
     ]
    },
    {
     "data": {
      "image/png": "[encoded data removed]",
      "text/plain": [
       "<Figure size 1500x600 with 10 Axes>"
      ]
     },
     "metadata": {},
     "output_type": "display_data"
    }
   ],
   "source": [
    "# Visualize triggers for each class\n",
    "fig, ax = plt.subplots(2, 5, figsize=(15, 6))\n",
    "fig.suptitle('Triggers for each MNIST Class', fontsize=16)\n",
    "\n",
    "for target_class in range(10):  # Iterate over each class from 0 to 9\n",
    "    pattern = torch.nn.Parameter(torch.ones(1, 28, 28))  # Single channel image\n",
    "    mask = torch.nn.Parameter(torch.ones(1, 28, 28))\n",
    "    optimizer = optim.Adam([pattern, mask], lr=0.01)\n",
    "\n",
    "    # Optimization loop\n",
    "    for epoch in range(100):  # Number of epochs\n",
    "        optimizer.zero_grad()\n",
    "        pattern_t = torch.sigmoid(pattern)\n",
    "        mask_t = torch.sigmoid(mask)\n",
    "        # Create a poisoned image example, ensure correct dimensions\n",
    "        x = (pattern_t * mask_t).unsqueeze(0)  # Corrected dimension handling\n",
    "        # Forward pass\n",
    "        outputs = model(x)\n",
    "        label = torch.tensor([target_class])  # Set the target class index\n",
    "        loss = criterion(outputs, label)\n",
    "        loss.backward()\n",
    "        optimizer.step()\n",
    "\n",
    "        if epoch % 10 == 0:\n",
    "            print(f\"Class {target_class}, Epoch {epoch}, Loss: {loss.item()}\")\n",
    "\n",
    "    # Visualize the trigger\n",
    "    pattern_np = pattern_t.detach().numpy().squeeze()\n",
    "    mask_np = mask_t.detach().numpy().squeeze()\n",
    "    ax[target_class // 5, target_class % 5].imshow(pattern_np * mask_np, cmap='gray')\n",
    "    ax[target_class // 5, target_class % 5].set_title(f'Class {target_class}')\n",
    "    ax[target_class // 5, target_class % 5].axis('off')\n",
    "\n",
    "plt.tight_layout(rect=[0, 0.03, 1, 0.95])\n",
    "plt.show()\n"
   ]
  },
  {
   "cell_type": "code",
   "execution_count": null,
   "id": "800c6a0e",
   "metadata": {
    "papermill": {
     "duration": 0.005436,
     "end_time": "2024-06-15T12:50:14.477349",
     "exception": false,
     "start_time": "2024-06-15T12:50:14.471913",
     "status": "completed"
    },
    "tags": []
   },
   "outputs": [],
   "source": []
  }
 ],
 "metadata": {
  "kaggle": {
   "accelerator": "gpu",
   "dataSources": [
    {
     "isSourceIdPinned": true,
     "modelInstanceId": 54752,
     "sourceId": 65631,
     "sourceType": "modelInstanceVersion"
    }
   ],
   "dockerImageVersionId": 30733,
   "isGpuEnabled": true,
   "isInternetEnabled": true,
   "language": "python",
   "sourceType": "notebook"
  },
  "kernelspec": {
   "display_name": "Python 3",
   "language": "python",
   "name": "python3"
  },
  "language_info": {
   "codemirror_mode": {
    "name": "ipython",
    "version": 3
   },
   "file_extension": ".py",
   "mimetype": "text/x-python",
   "name": "python",
   "nbconvert_exporter": "python",
   "pygments_lexer": "ipython3",
   "version": "3.10.13"
  },
  "papermill": {
   "default_parameters": {},
   "duration": 13.225771,
   "end_time": "2024-06-15T12:50:15.604147",
   "environment_variables": {},
   "exception": null,
   "input_path": "__notebook__.ipynb",
   "output_path": "__notebook__.ipynb",
   "parameters": {},
   "start_time": "2024-06-15T12:50:02.378376",
   "version": "2.5.0"
  }
 },
 "nbformat": 4,
 "nbformat_minor": 5
}
